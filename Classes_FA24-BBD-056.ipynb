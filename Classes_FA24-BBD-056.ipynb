{
 "cells": [
  {
   "cell_type": "markdown",
   "id": "81a365e3",
   "metadata": {},
   "source": [
    "# Classes in Python: A Comprehensive Guide\n",
    "\n",
    "## Introduction\n",
    "### In Python, classes are a fundamental building block for object-oriented programming (OOP). OOP is a programming paradigm that uses objects and classes to model real-world scenarios. They allow you to create user-defined data structures that encapsulate both data (attributes) and behavior (methods). This encapsulation promotes code reusability, modularity, and maintainability."
   ]
  },
  {
   "cell_type": "markdown",
   "id": "0a0d6649",
   "metadata": {},
   "source": [
    "## Key Concepts\n",
    "### Class: A blueprint for creating objects. It defines the attributes and methods that objects of that class will possess.\n",
    "### Object: An instance of a class. It has its own unique set of attribute values.\n",
    "### Attributes: Variables that store data associated with an object.\n",
    "### Methods: Functions that operate on the object's data.\n",
    "### Constructor: A special method called __init__ that is automatically invoked when an object is created. It initializes the object's attributes.\n",
    "## Creating a Class and Object"
   ]
  },
  {
   "cell_type": "code",
   "execution_count": 1,
   "id": "0239378a",
   "metadata": {},
   "outputs": [
    {
     "name": "stdout",
     "output_type": "stream",
     "text": [
      "Buddy\n",
      "Buddy barks!\n"
     ]
    }
   ],
   "source": [
    "class Dog:\n",
    "    def __init__(self, name, breed):\n",
    "        self.name = name\n",
    "        self.breed = breed\n",
    "\n",
    "    def bark(self):\n",
    "        print(f\"{self.name} barks!\")\n",
    "\n",
    "# Create an object of the Dog class\n",
    "my_dog = Dog(\"Buddy\", \"Golden Retriever\")\n",
    "\n",
    "# Access attributes and call methods\n",
    "print(my_dog.name)  # Output: Buddy\n",
    "my_dog.bark()  # Output: Buddy barks!"
   ]
  },
  {
   "cell_type": "markdown",
   "id": "db04f438",
   "metadata": {},
   "source": [
    "## Inheritance\n",
    "### Inheritance allows you to create new classes (child classes) that inherit attributes and methods from existing classes (parent classes). This promotes code reuse and hierarchical relationships between classes."
   ]
  },
  {
   "cell_type": "code",
   "execution_count": 2,
   "id": "9dcf9e3a",
   "metadata": {},
   "outputs": [
    {
     "name": "stdout",
     "output_type": "stream",
     "text": [
      "Buddy is eating.\n",
      "Buddy barks!\n"
     ]
    }
   ],
   "source": [
    "class Animal:\n",
    "    def __init__(self, name):\n",
    "        self.name = name\n",
    "\n",
    "    def eat(self):\n",
    "        print(f\"{self.name} is eating.\")\n",
    "\n",
    "class Dog(Animal):\n",
    "    def bark(self):\n",
    "        print(f\"{self.name} barks!\")\n",
    "\n",
    "my_dog = Dog(\"Buddy\")\n",
    "my_dog.eat()  # Output: Buddy is eating.\n",
    "my_dog.bark()  # Output: Buddy barks!"
   ]
  },
  {
   "cell_type": "markdown",
   "id": "d76e9927",
   "metadata": {},
   "source": [
    "## Encapsulation\n",
    "### Encapsulation is the practice of hiding the internal implementation details of a class from the outside world. This promotes code modularity and prevents unintended modifications."
   ]
  },
  {
   "cell_type": "code",
   "execution_count": 3,
   "id": "788a14d6",
   "metadata": {},
   "outputs": [],
   "source": [
    "class BankAccount:\n",
    "    def __init__(self, balance):\n",
    "        self.__balance = balance  # Private attribute\n",
    "\n",
    "    def deposit(self, amount):\n",
    "        self.__balance += amount\n",
    "\n",
    "    def withdraw(self, amount):\n",
    "        if self.__balance >= amount:\n",
    "            self.__balance -= amount\n",
    "        else:\n",
    "            print(\"Insufficient funds.\")\n",
    "\n",
    "    def get_balance(self):\n",
    "        return self.__balance"
   ]
  },
  {
   "cell_type": "markdown",
   "id": "99ec9b48",
   "metadata": {},
   "source": [
    "## Practice Exercises\n",
    "\n",
    "### 1. Create a class Person with attributes name, age, and city.\n",
    "### 2. Create a class Car with attributes make, model, and year.\n",
    "### 3. Create a class Circle with attributes radius and methods to calculate area and circumference.\n",
    "### 4. Create a class Rectangle with attributes length and width and methods to calculate area and perimeter.\n",
    "### 5. Create a class Student with attributes name, roll_number, and marks. Implement a method to calculate the average marks.\n",
    "### 6. Create a class Book with attributes title, author, and publication_year.\n",
    "### 7. Create a class Employee with attributes name, salary, and designation.\n",
    "### 8. Create a class Bank with attributes name, account_number, and balance. Implement methods to deposit and withdraw money.\n",
    "### 9. Create a class Shape with a method to calculate area. Create subclasses Circle, Rectangle, and Triangle that inherit from Shape and implement their specific area calculations.\n",
    "### 10. Create a class Animal with attributes name and sound. Create subclasses Dog, Cat, and Cow that inherit from Animal and implement their specific sounds.\n",
    "\n",
    "## Additional Tips\n",
    "### Use meaningful names for classes, attributes, and methods.\n",
    "### Write clear and concise code.\n",
    "### Use comments to explain complex logic.\n",
    "### Test your code thoroughly.\n",
    "### Consider using inheritance to avoid code duplication.\n",
    "### Encapsulate data to protect it from accidental modification.\n",
    "### Use polymorphism to create flexible and adaptable code."
   ]
  },
  {
   "cell_type": "code",
   "execution_count": 15,
   "id": "cae0ab42",
   "metadata": {},
   "outputs": [
    {
     "name": "stdout",
     "output_type": "stream",
     "text": [
      "Mohib\n",
      "18\n",
      "LHR\n"
     ]
    }
   ],
   "source": [
    "#Question 1\n",
    "# Create a class Person with attributes name, age, and city.\n",
    "class person: #class\n",
    "    def __init__(self,name,age,city): #constructor\n",
    "        self.name=name\n",
    "        self.age=age #attributes\n",
    "        self.city=city\n",
    "person_1=person(\"Mohib\",18,\"LHR\") # object\n",
    "print(i_person.name)\n",
    "print(i_person.age) # methods\n",
    "print(i_person.city)"
   ]
  },
  {
   "cell_type": "code",
   "execution_count": 13,
   "id": "0afa003e-cb00-46c8-ab0b-fc18b102ed21",
   "metadata": {},
   "outputs": [
    {
     "name": "stdout",
     "output_type": "stream",
     "text": [
      "Honda\n",
      "City\n",
      "2015\n"
     ]
    }
   ],
   "source": [
    "Question 2\n",
    "#Create a class Car with attributes make, model, and year.\n",
    "class car:#class\n",
    "    def __init__(self,make,model,year):#constructor\n",
    "        self.make=make\n",
    "        self.model=model #attributes\n",
    "        self.year=year\n",
    "my_car=car(\"Honda\",\"City\",2015)#object\n",
    "print(my_car.make)\n",
    "print(my_car.model)#methods\n",
    "print(my_car.year)"
   ]
  },
  {
   "cell_type": "code",
   "execution_count": 31,
   "id": "f58542b8-9c3e-4a67-8d76-809ce42019c6",
   "metadata": {},
   "outputs": [
    {
     "name": "stdout",
     "output_type": "stream",
     "text": [
      "GAMBIT flies F-16 Fighting Falcon.\n",
      "GAMBIT commands Griffins!\n"
     ]
    }
   ],
   "source": [
    "#Inheritence\n",
    "class human:\n",
    "    def __init__(self,name):\n",
    "        self.name=name\n",
    "    def flies(self):\n",
    "        print(f\"{self.name} flies F-16 Fighting Falcon.\")\n",
    "class person(human):\n",
    "    def commands(self):\n",
    "        print(f\"{self.name} commands Griffins!\")\n",
    "person_2=person(\"GAMBIT\")\n",
    "person_2.flies()\n",
    "person_2.commands()"
   ]
  },
  {
   "cell_type": "code",
   "execution_count": 39,
   "id": "966e4cdb-c863-4c7d-a5fa-765a529d2008",
   "metadata": {},
   "outputs": [
    {
     "name": "stdout",
     "output_type": "stream",
     "text": [
      "Area: 78.53981633974483\n",
      "Circumference: 31.41592653589793\n"
     ]
    }
   ],
   "source": [
    "#Question 3\n",
    "# Create a class Circle with attributes radius and methods to calculate area and circumference\n",
    "import math\n",
    "class circle:\n",
    "    def __init__(self, radius):\n",
    "        self.radius = radius\n",
    "    def area(self):\n",
    "        return math.pi * (self.radius ** 2)\n",
    "    def circumference(self):\n",
    "        return 2 * math.pi * self.radius\n",
    "circle = Circle(5)\n",
    "print(\"Area:\", circle.area())  \n",
    "print(\"Circumference:\", circle.circumference())"
   ]
  },
  {
   "cell_type": "code",
   "execution_count": 49,
   "id": "30ddd25e-3745-4348-8960-75d49cd5bcf0",
   "metadata": {},
   "outputs": [
    {
     "name": "stdout",
     "output_type": "stream",
     "text": [
      "Area: 8\n",
      "Perimeter: 12\n"
     ]
    }
   ],
   "source": [
    "# Question 4\n",
    "#Create a class Rectangle with attributes length and width and methods to calculate area and perimeter.\n",
    "import math\n",
    "class Rectangle:\n",
    "    def __init__(self,length,width):\n",
    "        self.length=length\n",
    "        self.width=width\n",
    "    def area(self):\n",
    "        return self.length*self.width\n",
    "    def perimeter(self):\n",
    "        return 2*(self.length+self.width)\n",
    "rectangle=Rectangle(4,2)\n",
    "print(\"Area:\",rectangle.area())\n",
    "print(\"Perimeter:\",rectangle.perimeter())"
   ]
  },
  {
   "cell_type": "code",
   "execution_count": 11,
   "id": "86cd99bd-3436-46c6-b2ca-ea6a0694deb3",
   "metadata": {},
   "outputs": [
    {
     "name": "stdout",
     "output_type": "stream",
     "text": [
      "Ammar's average score is: 59.5\n"
     ]
    }
   ],
   "source": [
    "#Question 5\n",
    "# Create a class Student with attributes name, roll_number, and marks. Implement a method to calculate the average marks.\n",
    "\n",
    "class Learner:\n",
    "    def __init__(self, full_name, id_num, scores):\n",
    "        self.full_name = full_name\n",
    "        self.id_num = id_num\n",
    "        self.scores = scores\n",
    "\n",
    "    def get_average(self):\n",
    "        if not self.scores:  # Check if the list is empty\n",
    "            return 0\n",
    "        return sum(self.scores) / len(self.scores)\n",
    "\n",
    "student = Learner(\"Ammar\", 108, [45, 70, 23, 100])\n",
    "average_score = student.get_average()\n",
    "print(f\"{student.full_name}'s average score is: {average_score}\")\n",
    "    \n"
   ]
  },
  {
   "cell_type": "code",
   "execution_count": 13,
   "id": "10ae443b-eb40-4fe0-ba79-19c1a255392e",
   "metadata": {},
   "outputs": [
    {
     "name": "stdout",
     "output_type": "stream",
     "text": [
      "To Kill a Mockingbird\n",
      "Harper Lee\n",
      "1960\n"
     ]
    }
   ],
   "source": [
    "#Question 6\n",
    "# Create a class Book with attributes title, author, and publication_year.\n",
    "\n",
    "class Novel:\n",
    "    def __init__(self, book_name, writer, year_published):\n",
    "        self.book_name = book_name\n",
    "        self.writer = writer\n",
    "        self.year_published = year_published\n",
    "\n",
    "favorite_book = Novel(\"To Kill a Mockingbird\", \"Harper Lee\", 1960)\n",
    "print(favorite_book.book_name)\n",
    "print(favorite_book.writer)\n",
    "print(favorite_book.year_published)\n"
   ]
  },
  {
   "cell_type": "code",
   "execution_count": 15,
   "id": "074beafc-19d3-455c-8082-723706d6a530",
   "metadata": {},
   "outputs": [
    {
     "name": "stdout",
     "output_type": "stream",
     "text": [
      "Name: Ammar, Salary: 200000, Role: Manager\n"
     ]
    }
   ],
   "source": [
    "#Question 7\n",
    "#Create a class Employee with attributes name, salary, and designation.\n",
    "class Employee:\n",
    "    def __init__(self, name, salary, role):\n",
    "        self.name = name\n",
    "        self.salary = salary\n",
    "        self.role = role\n",
    "\n",
    "    def info(self):\n",
    "        return f\"Name: {self.name}, Salary: {self.salary}, Role: {self.role}\"\n",
    "\n",
    "emp = Employee(\"Ammar\", 200000, \"Manager\")\n",
    "print(emp.info())\n"
   ]
  },
  {
   "cell_type": "code",
   "execution_count": 19,
   "id": "ccc4ae23-f608-4830-a1ba-17d594c989e0",
   "metadata": {},
   "outputs": [
    {
     "name": "stdout",
     "output_type": "stream",
     "text": [
      "Ammar 12345 5000\n",
      "7000\n",
      "4000\n"
     ]
    }
   ],
   "source": [
    "#Question 8\n",
    "# Create a class Bank with attributes name, account_number, and balance. Implement methods to deposit and withdraw money.\n",
    "\n",
    "class Bank:\n",
    "    def __init__(self, owner, acc_num, funds):\n",
    "        self.owner = owner\n",
    "        self.acc_num = acc_num\n",
    "        self.funds = funds\n",
    "\n",
    "    def deposit(self, amount):\n",
    "        self.funds += amount\n",
    "\n",
    "    def withdraw(self, amount):\n",
    "        if amount <= self.funds:\n",
    "            self.funds -= amount\n",
    "        else:\n",
    "            print(\"Insufficient funds\")\n",
    "\n",
    "acc = Bank(\"Ammar\", 12345, 5000)\n",
    "print(acc.owner, acc.acc_num, acc.funds)\n",
    "acc.deposit(2000)\n",
    "print(acc.funds)\n",
    "acc.withdraw(3000)\n",
    "print(acc.funds)\n"
   ]
  },
  {
   "cell_type": "code",
   "execution_count": 21,
   "id": "2f32074b-2f2b-40f5-9fc8-e96c10237b16",
   "metadata": {},
   "outputs": [
    {
     "name": "stdout",
     "output_type": "stream",
     "text": [
      "Circle Area: 78.53981633974483\n",
      "Rectangle Area: 24\n",
      "Triangle Area: 6.0\n"
     ]
    }
   ],
   "source": [
    "#Question 9\n",
    "#Create a class Shape with a method to calculate area. Create subclasses Circle, Rectangle, and Triangle that inherit from Shape and implement their specific area calculations.\n",
    "import math\n",
    "\n",
    "class Shape:\n",
    "    def area(self):\n",
    "        return 0\n",
    "\n",
    "class Circle(Shape):\n",
    "    def __init__(self, r):\n",
    "        self.r = r\n",
    "\n",
    "    def area(self):\n",
    "        return math.pi * self.r ** 2\n",
    "\n",
    "class Rectangle(Shape):\n",
    "    def __init__(self, l, w):\n",
    "        self.l = l\n",
    "        self.w = w\n",
    "\n",
    "    def area(self):\n",
    "        return self.l * self.w\n",
    "\n",
    "class Triangle(Shape):\n",
    "    def __init__(self, b, h):\n",
    "        self.b = b\n",
    "        self.h = h\n",
    "\n",
    "    def area(self):\n",
    "        return 0.5 * self.b * self.h\n",
    "\n",
    "c = Circle(5)\n",
    "print(\"Circle Area:\", c.area())\n",
    "\n",
    "r = Rectangle(4, 6)\n",
    "print(\"Rectangle Area:\", r.area())\n",
    "\n",
    "t = Triangle(4, 3)\n",
    "print(\"Triangle Area:\", t.area())\n"
   ]
  },
  {
   "cell_type": "code",
   "execution_count": 23,
   "id": "8eaccf61-2af9-4342-ba50-188573c34529",
   "metadata": {},
   "outputs": [
    {
     "name": "stdout",
     "output_type": "stream",
     "text": [
      "Circle area: 78.53981633974483\n",
      "Rectangle area: 24\n",
      "Triangle area: 6.0\n"
     ]
    }
   ],
   "source": [
    "#Question 9\n",
    "#Create a class Shape with a method to calculate area. Create subclasses Circle, Rectangle, and Triangle that inherit from Shape and implement their specific area calculations.\n",
    "\n",
    "import math\n",
    "\n",
    "class Shape:\n",
    "    def calculate_area(self):\n",
    "        pass\n",
    "\n",
    "class Circle(Shape):\n",
    "    def __init__(self, rad):\n",
    "        self.rad = rad\n",
    "\n",
    "    def calculate_area(self):\n",
    "        return math.pi * self.rad ** 2\n",
    "\n",
    "class Rectangle(Shape):\n",
    "    def __init__(self, len, wid):\n",
    "        self.len = len\n",
    "        self.wid = wid\n",
    "\n",
    "    def calculate_area(self):\n",
    "        return self.len * self.wid\n",
    "\n",
    "class Triangle(Shape):\n",
    "    def __init__(self, base, ht):\n",
    "        self.base = base\n",
    "        self.ht = ht\n",
    "\n",
    "    def calculate_area(self):\n",
    "        return 0.5 * self.base * self.ht\n",
    "\n",
    "circle = Circle(5)\n",
    "print(\"Circle area:\", circle.calculate_area())\n",
    "\n",
    "rectangle = Rectangle(4, 6)\n",
    "print(\"Rectangle area:\", rectangle.calculate_area())\n",
    "\n",
    "triangle = Triangle(4, 3)\n",
    "print(\"Triangle area:\", triangle.calculate_area())\n",
    "\n"
   ]
  },
  {
   "cell_type": "code",
   "execution_count": 25,
   "id": "9798e2f4-4600-4b53-87ca-1b3d24d2d0f5",
   "metadata": {},
   "outputs": [
    {
     "name": "stdout",
     "output_type": "stream",
     "text": [
      "MIKE makes bark sound\n",
      "SIMBA makes meow sound\n",
      "DAISY makes moo sound\n"
     ]
    }
   ],
   "source": [
    "#Question 10\n",
    "#Create a class Animal with attributes name and sound. Create subclasses Dog, Cat, and Cow that inherit from Animal and implement their specific sounds.\n",
    "\n",
    "class Animal:\n",
    "    def __init__(self, name, sound):\n",
    "        self.name = name  \n",
    "        self.sound = sound    \n",
    "    def make_sound(self):\n",
    "        print(f\"{self.name} makes {self.sound} sound\")\n",
    "class Dog(Animal):\n",
    "    def __init__(self, name):\n",
    "        super().__init__(name, \"bark\")\n",
    "class Cat(Animal):\n",
    "    def __init__(self, name):\n",
    "        super().__init__(name, \"meow\")\n",
    "class Cow(Animal):\n",
    "    def __init__(self, name):\n",
    "        super().__init__(name, \"moo\")\n",
    "dog = Dog(\"MIKE\")\n",
    "cat = Cat(\"SIMBA\")\n",
    "cow = Cow(\"DAISY\")\n",
    "dog.make_sound()\n",
    "cat.make_sound()\n",
    "cow.make_sound()  "
   ]
  },
  {
   "cell_type": "code",
   "execution_count": null,
   "id": "54c96cd7-58e1-400e-bc7c-ed66a689de9d",
   "metadata": {},
   "outputs": [],
   "source": []
  }
 ],
 "metadata": {
  "kernelspec": {
   "display_name": "Python 3 (ipykernel)",
   "language": "python",
   "name": "python3"
  },
  "language_info": {
   "codemirror_mode": {
    "name": "ipython",
    "version": 3
   },
   "file_extension": ".py",
   "mimetype": "text/x-python",
   "name": "python",
   "nbconvert_exporter": "python",
   "pygments_lexer": "ipython3",
   "version": "3.12.7"
  }
 },
 "nbformat": 4,
 "nbformat_minor": 5
}
