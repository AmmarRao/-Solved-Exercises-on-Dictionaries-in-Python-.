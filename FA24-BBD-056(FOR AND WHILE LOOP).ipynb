{
 "cells": [
  {
   "cell_type": "code",
   "execution_count": 4,
   "metadata": {
    "colab": {
     "base_uri": "https://localhost:8080/"
    },
    "id": "dUrEk_aNVSx7",
    "outputId": "a2de474c-f787-4d85-c533-d9c2b7e1f085"
   },
   "outputs": [
    {
     "name": "stdout",
     "output_type": "stream",
     "text": [
      "1\n",
      "2\n",
      "3\n",
      "4\n",
      "5\n",
      "6\n",
      "7\n",
      "8\n",
      "9\n",
      "10\n"
     ]
    }
   ],
   "source": [
    "#1. Print the first 10 natural numbers using a for loop\n",
    "\n",
    "for i in range(1, 11):\n",
    "    print(i)\n",
    "\n",
    "\n",
    "\n"
   ]
  },
  {
   "cell_type": "code",
   "execution_count": 5,
   "metadata": {
    "colab": {
     "base_uri": "https://localhost:8080/"
    },
    "id": "KjieZXpeYHUA",
    "outputId": "87af8bcb-df19-48d1-bf04-f0980742f0c5"
   },
   "outputs": [
    {
     "name": "stdout",
     "output_type": "stream",
     "text": [
      "Sum of the first 20 natural numbers is: 210\n"
     ]
    }
   ],
   "source": [
    "#2. Sum of the first 20 natural numbers using a while loop\n",
    "\n",
    "i = 1\n",
    "total = 0\n",
    "while i <= 20:\n",
    "    total += i\n",
    "    i += 1\n",
    "print(\"Sum of the first 20 natural numbers is:\", total)"
   ]
  },
  {
   "cell_type": "code",
   "execution_count": 9,
   "metadata": {
    "colab": {
     "base_uri": "https://localhost:8080/"
    },
    "id": "RBCCBggvYQqM",
    "outputId": "4b37794e-b96b-4c18-89fb-3faa1e160ef7"
   },
   "outputs": [
    {
     "name": "stdout",
     "output_type": "stream",
     "text": [
      "Enter a string: ammar\n",
      "a\n",
      "m\n",
      "m\n",
      "a\n",
      "r\n"
     ]
    }
   ],
   "source": [
    "#3. Print each character in a user-inputted string\n",
    "\n",
    "user = input(\"Enter a string: \")\n",
    "for x in user:\n",
    "    print(x)"
   ]
  },
  {
   "cell_type": "code",
   "execution_count": 10,
   "metadata": {
    "colab": {
     "base_uri": "https://localhost:8080/"
    },
    "id": "UFdPQSV5ZbzQ",
    "outputId": "57e4e420-ebad-4466-fbd1-74972f5e05d7"
   },
   "outputs": [
    {
     "name": "stdout",
     "output_type": "stream",
     "text": [
      "Enter a number to count down from: 10\n",
      "10\n",
      "9\n",
      "8\n",
      "7\n",
      "6\n",
      "5\n",
      "4\n",
      "3\n",
      "2\n",
      "1\n",
      "0\n"
     ]
    }
   ],
   "source": [
    "#4. Count down from a given number using a while loop\n",
    "\n",
    "n = int(input(\"Enter a number to count down from: \"))\n",
    "while n >= 0:\n",
    "    print(n)\n",
    "    n -= 1"
   ]
  },
  {
   "cell_type": "code",
   "execution_count": 11,
   "metadata": {
    "colab": {
     "base_uri": "https://localhost:8080/"
    },
    "id": "AjMg_b9pZuY2",
    "outputId": "c2b8f96a-eeff-40d3-d6b1-aeea8cc05d91"
   },
   "outputs": [
    {
     "name": "stdout",
     "output_type": "stream",
     "text": [
      "2\n",
      "4\n",
      "6\n",
      "8\n",
      "10\n",
      "12\n",
      "14\n",
      "16\n",
      "18\n",
      "20\n",
      "22\n",
      "24\n",
      "26\n",
      "28\n",
      "30\n",
      "32\n",
      "34\n",
      "36\n",
      "38\n",
      "40\n",
      "42\n",
      "44\n",
      "46\n",
      "48\n",
      "50\n"
     ]
    }
   ],
   "source": [
    "#5. Print all even numbers from 1 to 50 using a for loop\n",
    "\n",
    "for i in range(1, 51):\n",
    "    if i % 2 == 0:\n",
    "        print(i)"
   ]
  },
  {
   "cell_type": "code",
   "execution_count": 12,
   "metadata": {
    "colab": {
     "base_uri": "https://localhost:8080/"
    },
    "id": "yFDHJ0q1Z2v1",
    "outputId": "060aca2c-9105-4628-933e-8bda7052b565"
   },
   "outputs": [
    {
     "name": "stdout",
     "output_type": "stream",
     "text": [
      "Enter a number to print its multiplication table: 2\n",
      "2 x 1 = 2\n",
      "2 x 2 = 4\n",
      "2 x 3 = 6\n",
      "2 x 4 = 8\n",
      "2 x 5 = 10\n",
      "2 x 6 = 12\n",
      "2 x 7 = 14\n",
      "2 x 8 = 16\n",
      "2 x 9 = 18\n",
      "2 x 10 = 20\n"
     ]
    }
   ],
   "source": [
    "#6. Print the multiplication table of a given number\n",
    "\n",
    "num = int(input(\"Enter a number to print its multiplication table: \"))\n",
    "for i in range(1, 11):\n",
    "    print(f\"{num} x {i} = {num * i}\")"
   ]
  },
  {
   "cell_type": "code",
   "execution_count": 13,
   "metadata": {
    "colab": {
     "base_uri": "https://localhost:8080/"
    },
    "id": "WwjJk4gWaLGL",
    "outputId": "ed65d433-aaa3-4fc9-b792-5b19874e480f"
   },
   "outputs": [
    {
     "name": "stdout",
     "output_type": "stream",
     "text": [
      "Enter a number to find its factorial: 4\n",
      "Factorial of 4 is: 24\n"
     ]
    }
   ],
   "source": [
    "#7. Find the factorial of a given positive integer using a while loop\n",
    "\n",
    "num = int(input(\"Enter a number to find its factorial: \"))\n",
    "factorial = 1\n",
    "i = 1\n",
    "while i <= num:\n",
    "    factorial *= i\n",
    "    i += 1\n",
    "print(\"Factorial of\", num, \"is:\", factorial)"
   ]
  },
  {
   "cell_type": "code",
   "execution_count": 14,
   "metadata": {
    "colab": {
     "base_uri": "https://localhost:8080/"
    },
    "id": "P-jUeq55aS15",
    "outputId": "197e454d-f0f2-4a20-b704-174735457842"
   },
   "outputs": [
    {
     "name": "stdout",
     "output_type": "stream",
     "text": [
      "Enter the starting number: 2\n",
      "Enter the ending number: 9\n",
      "Sum of all odd numbers is: 24\n"
     ]
    }
   ],
   "source": [
    "#SECTION 2\n",
    "#1. Sum of all odd numbers in a range\n",
    "\n",
    "start = int(input(\"Enter the starting number: \"))\n",
    "end = int(input(\"Enter the ending number: \"))\n",
    "sum_of_odds = 0\n",
    "\n",
    "for i in range(start, end + 1):\n",
    "    if i % 2 != 0:  # Checks if the number is odd\n",
    "        sum_of_odds += i  # Adds the odd number to sum_of_odds\n",
    "\n",
    "print(\"Sum of all odd numbers is:\", sum_of_odds)"
   ]
  },
  {
   "cell_type": "code",
   "execution_count": null,
   "metadata": {
    "id": "jf39Qduaa5ua"
   },
   "outputs": [],
   "source": [
    "#2. Display numbers between 1 and 100 divisible by both 3 and 5\n",
    "\n",
    "for i in range(1, 101):\n",
    "    if i % 3 == 0 and i % 5 == 0:  # Checks if i is divisible by both 3 and 5\n",
    "        print(i)"
   ]
  },
  {
   "cell_type": "code",
   "execution_count": 15,
   "metadata": {
    "colab": {
     "base_uri": "https://localhost:8080/"
    },
    "id": "sHxi3PLLa_Nt",
    "outputId": "84b29eee-a7b3-4d40-f9d9-87d4a55833d7"
   },
   "outputs": [
    {
     "name": "stdout",
     "output_type": "stream",
     "text": [
      "0\n",
      "1\n",
      "1\n",
      "2\n",
      "3\n",
      "5\n",
      "8\n",
      "13\n",
      "21\n",
      "34\n"
     ]
    }
   ],
   "source": [
    "#3. Fibonacci sequence up to the 10th term\n",
    "\n",
    "a, b = 0, 1\n",
    "count = 0\n",
    "\n",
    "while count < 10:\n",
    "    print(a)\n",
    "    a, b = b, a + b\n",
    "    count += 1"
   ]
  },
  {
   "cell_type": "code",
   "execution_count": null,
   "metadata": {
    "id": "iaf0RWiDbN9m"
   },
   "outputs": [],
   "source": [
    "#4. Find the sum of digits in a number\n",
    "\n",
    "num = int(input(\"Enter a number to find the sum of its digits: \"))\n",
    "sum_of_digits = 0\n",
    "\n",
    "while num > 0:\n",
    "    sum_of_digits += num % 10\n",
    "    num //= 10\n",
    "\n",
    "print(\"Sum of digits is:\", sum_of_digits)"
   ]
  },
  {
   "cell_type": "code",
   "execution_count": 16,
   "metadata": {
    "colab": {
     "base_uri": "https://localhost:8080/"
    },
    "id": "G9jkQC-cbWdV",
    "outputId": "d13fda60-7497-4dff-918a-d503ee53ab11"
   },
   "outputs": [
    {
     "name": "stdout",
     "output_type": "stream",
     "text": [
      "Enter a string to reverse: HELLO\n",
      "Reversed string is: OLLEH\n"
     ]
    }
   ],
   "source": [
    "#6. Reverse a user-inputted string\n",
    "user_string = input(\"Enter a string to reverse: \")\n",
    "reversed_string = \"\"\n",
    "\n",
    "for char in user_string:\n",
    "    reversed_string = char + reversed_string\n",
    "print(\"Reversed string is:\", reversed_string)\n"
   ]
  },
  {
   "cell_type": "code",
   "execution_count": 25,
   "metadata": {
    "colab": {
     "base_uri": "https://localhost:8080/"
    },
    "id": "0tEbEGdBeboJ",
    "outputId": "0a8ee076-e0c6-4c23-fa1b-4d13599608bd"
   },
   "outputs": [
    {
     "name": "stdout",
     "output_type": "stream",
     "text": [
      "Enter a list of numbers separated by spaces: 1\n",
      "Minimum value is: 1\n",
      "Maximum value is: 1\n"
     ]
    }
   ],
   "source": [
    "#7. Find the minimum and maximum in a list using a for loop\n",
    "\n",
    "numbers = list (map(int, input(\"Enter a list of numbers separated by spaces: \").split()))\n",
    "min_value = max_value = numbers[0]\n",
    "\n",
    "for num in numbers:\n",
    "    if num < min_value:\n",
    "        min_value = num\n",
    "    if num > max_value:\n",
    "        max_value = num\n",
    "\n",
    "print(\"Minimum value is:\", min_value)\n",
    "print(\"Maximum value is:\", max_value)\n"
   ]
  },
  {
   "cell_type": "code",
   "execution_count": 27,
   "metadata": {
    "colab": {
     "base_uri": "https://localhost:8080/"
    },
    "id": "4b_hxgHaewG7",
    "outputId": "8e6f28e5-cd2f-442a-e779-ec3ee243e6fe"
   },
   "outputs": [
    {
     "name": "stdout",
     "output_type": "stream",
     "text": [
      "Guess the secret number: 9\n",
      "Too high!\n",
      "Guess the secret number: 6\n",
      "Too low!\n",
      "Guess the secret number: 7\n",
      "Congratulations! You've guessed the correct number.\n"
     ]
    }
   ],
   "source": [
    "#8. Guess the secret number game using a while loop\n",
    "\n",
    "secret_number = 7\n",
    "guess = None\n",
    "while guess != secret_number:\n",
    "    guess = int(input(\"Guess the secret number: \"))\n",
    "    if guess < secret_number:\n",
    "        print(\"Too low!\")\n",
    "    elif guess > secret_number:\n",
    "        print(\"Too high!\")\n",
    "print(\"Congratulations! You've guessed the correct number.\")\n"
   ]
  },
  {
   "cell_type": "code",
   "execution_count": 28,
   "metadata": {
    "colab": {
     "base_uri": "https://localhost:8080/"
    },
    "id": "ll0tegPPfDAJ",
    "outputId": "5020cc4b-cc8c-4d33-9453-278e3e50e897"
   },
   "outputs": [
    {
     "name": "stdout",
     "output_type": "stream",
     "text": [
      "11\n",
      "13\n",
      "17\n",
      "19\n",
      "23\n",
      "29\n",
      "31\n",
      "37\n",
      "41\n",
      "43\n",
      "47\n"
     ]
    }
   ],
   "source": [
    "#9. Identify prime numbers in a range using a for loop\n",
    "\n",
    "for num in range(10, 51):\n",
    "    is_prime = True\n",
    "    for i in range(2, int(num ** 0.5) + 1):\n",
    "        if num % i == 0:\n",
    "            is_prime = False\n",
    "            break\n",
    "    if is_prime and num > 1:\n",
    "        print(num)"
   ]
  },
  {
   "cell_type": "code",
   "execution_count": 29,
   "metadata": {
    "colab": {
     "base_uri": "https://localhost:8080/"
    },
    "id": "fidf3McbfJQC",
    "outputId": "e01a912a-5efc-459e-8f9a-e33f940323ba"
   },
   "outputs": [
    {
     "name": "stdout",
     "output_type": "stream",
     "text": [
      "Enter a number to check if it is a palindrome: 98\n",
      "The number is not a palindrome.\n"
     ]
    }
   ],
   "source": [
    "#10. Check if a number is a palindrome using a while loop\n",
    "\n",
    "num = int(input(\"Enter a number to check if it is a palindrome: \"))\n",
    "original_num = num\n",
    "reversed_num = 0\n",
    "while num > 0:\n",
    "    reversed_num = reversed_num * 10 + num % 10\n",
    "    num //= 10\n",
    "if original_num == reversed_num:\n",
    "    print(\"The number is a palindrome.\")\n",
    "else:\n",
    "    print(\"The number is not a palindrome.\")"
   ]
  },
  {
   "cell_type": "markdown",
   "metadata": {
    "id": "euYtX-TifnCE"
   },
   "source": [
    "**SECTION NUMBER 2**"
   ]
  },
  {
   "cell_type": "code",
   "execution_count": 37,
   "metadata": {
    "colab": {
     "base_uri": "https://localhost:8080/"
    },
    "id": "CGzDewXuft1x",
    "outputId": "7dcb72cb-06dc-49e7-a295-078c21d71135"
   },
   "outputs": [
    {
     "name": "stdout",
     "output_type": "stream",
     "text": [
      "Processing orange...\n",
      "orange in stock: 5\n",
      "orange in stock: 4\n",
      "orange in stock: 3\n",
      "orange in stock: 2\n",
      "orange in stock: 1\n",
      "orange is now sold out.\n",
      "\n",
      "Processing phone...\n",
      "phone in stock: 3\n",
      "phone in stock: 2\n",
      "phone in stock: 1\n",
      "phone is now sold out.\n",
      "\n",
      "Processing games...\n",
      "games in stock: 4\n",
      "games in stock: 3\n",
      "games in stock: 2\n",
      "games in stock: 1\n",
      "games is now sold out.\n",
      "\n"
     ]
    }
   ],
   "source": [
    "#1. Inventory Tracking for a Store\n",
    "\n",
    "inventory = {'orange': 5, 'phone': 3, 'games': 4}\n",
    "\n",
    "for item, quantity in inventory.items():\n",
    "    print(f\"Processing {item}...\")\n",
    "    while quantity > 0:\n",
    "        print(f\"{item} in stock: {quantity}\")\n",
    "        quantity -= 1\n",
    "    print(f\"{item} is now sold out.\\n\")"
   ]
  },
  {
   "cell_type": "code",
   "execution_count": 36,
   "metadata": {
    "colab": {
     "base_uri": "https://localhost:8080/"
    },
    "id": "4eZGigzpgF8N",
    "outputId": "5c6ac4cc-a9c3-4242-9211-db7274b759e3"
   },
   "outputs": [
    {
     "name": "stdout",
     "output_type": "stream",
     "text": [
      "Total covered expenses: 3\n",
      "Remaining budget: 940\n"
     ]
    }
   ],
   "source": [
    "#2. Budget Planning for a Project\n",
    "\n",
    "expenses = [10,20,30]\n",
    "total_expense = sum(expenses)\n",
    "budget = 1000\n",
    "count = 0\n",
    "\n",
    "for expense in expenses:\n",
    "    budget -= expense\n",
    "    if budget >= 0:\n",
    "        count += 1\n",
    "    else:\n",
    "        break\n",
    "\n",
    "print(f\"Total covered expenses: {count}\")\n",
    "print(f\"Remaining budget: {budget}\")"
   ]
  },
  {
   "cell_type": "code",
   "execution_count": 35,
   "metadata": {
    "colab": {
     "base_uri": "https://localhost:8080/"
    },
    "id": "XZxKMhARgPNU",
    "outputId": "5e4352e3-27c2-41c6-984d-a6614848a12a"
   },
   "outputs": [
    {
     "name": "stdout",
     "output_type": "stream",
     "text": [
      "Final Attendance: {'ali': 'Present', 'ahmed': 'Present', 'hamza': 'Present'}\n"
     ]
    }
   ],
   "source": [
    "#3. Employee Attendance Simulation\n",
    "\n",
    "import random\n",
    "\n",
    "employees = ['ali', 'ahmed', 'hamza']\n",
    "attendance = {}\n",
    "\n",
    "for employee in employees:\n",
    "    if random.choice([True, False]):\n",
    "        attendance[employee] = 'Present'\n",
    "    else:\n",
    "        attempts = 0\n",
    "        while attempts < 3:\n",
    "            print(f\"Reminder to {employee} to attend training.\")\n",
    "            attempts += 1\n",
    "        attendance[employee] = 'Absent'\n",
    "\n",
    "print(\"Final Attendance:\", attendance)"
   ]
  },
  {
   "cell_type": "code",
   "execution_count": 31,
   "metadata": {
    "colab": {
     "base_uri": "https://localhost:8080/"
    },
    "id": "m0BamqRogiFs",
    "outputId": "a11168ae-6efc-4e83-b289-167b50bec48d"
   },
   "outputs": [
    {
     "name": "stdout",
     "output_type": "stream",
     "text": [
      "Transaction ID 1 - Amount: 50\n",
      "Is this correct? (yes/no): NO\n",
      "Please update transaction details.\n",
      "Transaction ID 1 - Amount: 50\n",
      "Is this correct? (yes/no): no\n",
      "Please update transaction details.\n",
      "Transaction ID 1 - Amount: 50\n",
      "Is this correct? (yes/no): yes\n",
      "Transaction ID 2 - Amount: 150\n",
      "Is this correct? (yes/no): yes\n",
      "All transactions confirmed.\n"
     ]
    }
   ],
   "source": [
    "#4. Automated Sales Report Generation\n",
    "\n",
    "transactions = [{'id': 1, 'amount': 50}, {'id': 2, 'amount': 150}]\n",
    "\n",
    "for transaction in transactions:\n",
    "    confirmation = False\n",
    "    while not confirmation:\n",
    "        print(f\"Transaction ID {transaction['id']} - Amount: {transaction['amount']}\")\n",
    "        user_input = input(\"Is this correct? (yes/no): \")\n",
    "        if user_input.lower() == 'yes':\n",
    "            confirmation = True\n",
    "        else:\n",
    "            print(\"Please update transaction details.\")\n",
    "\n",
    "print(\"All transactions confirmed.\")"
   ]
  },
  {
   "cell_type": "code",
   "execution_count": 34,
   "metadata": {
    "colab": {
     "base_uri": "https://localhost:8080/"
    },
    "id": "j9In0r0bhcjK",
    "outputId": "deca12bc-76e1-4bfa-cdec-9fd163d116e6"
   },
   "outputs": [
    {
     "name": "stdout",
     "output_type": "stream",
     "text": [
      "meesum's final grade: 95\n",
      "sherry's final grade: 88\n",
      "adam's final grade: 100\n"
     ]
    }
   ],
   "source": [
    "\n",
    "#6. Classroom Exam Grading\n",
    "\n",
    "students_scores = {'meesum': 95, 'sherry': 88, 'adam': 104}\n",
    "\n",
    "for student, score in students_scores.items():\n",
    "    while score > 100:\n",
    "        score -= 1\n",
    "    print(f\"{student}'s final grade: {score}\")\n"
   ]
  },
  {
   "cell_type": "code",
   "execution_count": 39,
   "metadata": {
    "colab": {
     "base_uri": "https://localhost:8080/"
    },
    "id": "-bCpUYogiMLi",
    "outputId": "f325fe5c-4677-4fa9-b49f-6e3ba8645b4b"
   },
   "outputs": [
    {
     "name": "stdout",
     "output_type": "stream",
     "text": [
      "Enter your password: ammar1\n",
      "Login successful.\n"
     ]
    }
   ],
   "source": [
    "#7. Simulating Website Login Attempts\n",
    "correct_password = \"ammar1\"\n",
    "attempts = 0\n",
    "while attempts < 3:\n",
    "    password = input(\"Enter your password: \")\n",
    "    if password == correct_password:\n",
    "        print(\"Login successful.\")\n",
    "        break\n",
    "    else:\n",
    "        attempts += 1\n",
    "        print(\"Incorrect password.\")\n",
    "if attempts == 3:\n",
    "    reset = input(\"Too many attempts. Reset password? (yes/no): \")\n",
    "    if reset.lower() == 'yes':\n",
    "        for step in [\"Verify phone number\", \"Verify email\"]:\n",
    "            print(f\"{step} complete.\")\n",
    "        print(\"Password reset.\")\n"
   ]
  },
  {
   "cell_type": "code",
   "execution_count": 40,
   "metadata": {
    "colab": {
     "base_uri": "https://localhost:8080/"
    },
    "id": "8ucCaDsbjL_W",
    "outputId": "506782df-e338-475a-a6c1-264e33fbc042"
   },
   "outputs": [
    {
     "name": "stdout",
     "output_type": "stream",
     "text": [
      "Do you want to borrow Mocking Bird? (yes/no): yes\n",
      "Do you want to borrow Dark Phsycology? (yes/no): no\n",
      "Do you want to borrow Withcer? (yes/no): yes\n",
      "Do you want to borrow Games of thrones? (yes/no): yes\n",
      "Borrowed books: ['Mocking Bird', 'Withcer', 'Games of thrones']\n"
     ]
    }
   ],
   "source": [
    "#8. Library Book Borrowing System\n",
    "\n",
    "available_books = [\"Mocking Bird\", \"Dark Phsycology\", \"Withcer\", \"Games of thrones\"]\n",
    "borrowed_books = []\n",
    "\n",
    "for book in available_books:\n",
    "    if len(borrowed_books) < 5:\n",
    "        confirm = input(f\"Do you want to borrow {book}? (yes/no): \")\n",
    "        if confirm.lower() == \"yes\":\n",
    "            borrowed_books.append(book)\n",
    "    else:\n",
    "        break\n",
    "\n",
    "print(\"Borrowed books:\", borrowed_books)\n"
   ]
  },
  {
   "cell_type": "code",
   "execution_count": 41,
   "metadata": {
    "colab": {
     "base_uri": "https://localhost:8080/"
    },
    "id": "-PRtnZTxjfFq",
    "outputId": "ded1edef-cfa4-46d1-c04c-de1734ee4a04"
   },
   "outputs": [
    {
     "name": "stdout",
     "output_type": "stream",
     "text": [
      "Enter steps taken this hour: 98\n",
      "Enter steps taken this hour: 8\n",
      "Summary of steps taken each hour: [98, 8]\n",
      "Total steps taken: 106\n"
     ]
    }
   ],
   "source": [
    "#9. Health Tracking System for Steps Taken\n",
    "\n",
    "goal = 100\n",
    "total_steps = 0\n",
    "hourly_steps = []\n",
    "\n",
    "while total_steps < goal:\n",
    "    steps = int(input(\"Enter steps taken this hour: \"))\n",
    "    total_steps += steps\n",
    "    hourly_steps.append(steps)\n",
    "\n",
    "print(\"Summary of steps taken each hour:\", hourly_steps)\n",
    "print(\"Total steps taken:\", total_steps)\n"
   ]
  },
  {
   "cell_type": "code",
   "execution_count": null,
   "metadata": {
    "id": "BenkiV7Jjydq"
   },
   "outputs": [],
   "source": []
  }
 ],
 "metadata": {
  "colab": {
   "provenance": []
  },
  "kernelspec": {
   "display_name": "Python 3 (ipykernel)",
   "language": "python",
   "name": "python3"
  },
  "language_info": {
   "codemirror_mode": {
    "name": "ipython",
    "version": 3
   },
   "file_extension": ".py",
   "mimetype": "text/x-python",
   "name": "python",
   "nbconvert_exporter": "python",
   "pygments_lexer": "ipython3",
   "version": "3.12.7"
  }
 },
 "nbformat": 4,
 "nbformat_minor": 4
}
