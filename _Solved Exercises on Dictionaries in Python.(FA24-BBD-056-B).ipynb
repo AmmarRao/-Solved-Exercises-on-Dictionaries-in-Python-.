{
 "cells": [
  {
   "cell_type": "code",
   "execution_count": 1,
   "id": "72c833e6-8842-44f5-84bf-d0e0a5bbfcc3",
   "metadata": {},
   "outputs": [
    {
     "name": "stdin",
     "output_type": "stream",
     "text": [
      "Name:  ammar\n",
      "Age:  14\n",
      "City:  bahawalnagar\n",
      "Hobbies (comma-separated):  cricket\n"
     ]
    },
    {
     "name": "stdout",
     "output_type": "stream",
     "text": [
      "{'name': 'ammar', 'age': 14, 'city': 'bahawalnagar', 'hobbies': ['cricket']}\n"
     ]
    }
   ],
   "source": [
    "#Practice Questions\n",
    "# a)\n",
    "\n",
    "person = { \n",
    "    \"name\": input(\"Name: \"), \n",
    "    \"age\": int(input(\"Age: \")), \n",
    "    \"city\": input(\"City: \"), \n",
    "    \"hobbies\": input(\"Hobbies (comma-separated): \").split(\", \") \n",
    "}\n",
    "print(person)\n"
   ]
  },
  {
   "cell_type": "code",
   "execution_count": 3,
   "id": "94e52120-dc6b-4bb4-87c2-a80aa4bf0e7b",
   "metadata": {},
   "outputs": [
    {
     "name": "stdin",
     "output_type": "stream",
     "text": [
      "Enter text:  paragraph\n"
     ]
    },
    {
     "name": "stdout",
     "output_type": "stream",
     "text": [
      "{'paragraph': 1}\n"
     ]
    }
   ],
   "source": [
    "# b)\n",
    "text = input(\"Enter text: \").split()\n",
    "print({word: text.count(word) for word in set(text)})\n"
   ]
  },
  {
   "cell_type": "code",
   "execution_count": 5,
   "id": "1de0927c-bc1d-4f5f-a2d9-84267eba246b",
   "metadata": {},
   "outputs": [
    {
     "name": "stdin",
     "output_type": "stream",
     "text": [
      "add/remove/view/exit:  add\n",
      "Item:  banana\n",
      "Qty:  5\n",
      "add/remove/view/exit:  view\n"
     ]
    },
    {
     "name": "stdout",
     "output_type": "stream",
     "text": [
      "{'banana': 5}\n"
     ]
    },
    {
     "name": "stdin",
     "output_type": "stream",
     "text": [
      "add/remove/view/exit:  add\n",
      "Item:  apple\n",
      "Qty:  66\n",
      "add/remove/view/exit:  view\n"
     ]
    },
    {
     "name": "stdout",
     "output_type": "stream",
     "text": [
      "{'banana': 5, 'apple': 66}\n"
     ]
    },
    {
     "name": "stdin",
     "output_type": "stream",
     "text": [
      "add/remove/view/exit:  exit\n"
     ]
    }
   ],
   "source": [
    "# c)\n",
    "inventory = {}\n",
    "while (action := input(\"add/remove/view/exit: \")) != \"exit\":\n",
    "    if action in [\"add\", \"remove\"]:\n",
    "        item, qty = input(\"Item: \"), int(input(\"Qty: \"))\n",
    "        inventory[item] = max(0, inventory.get(item, 0) + (qty if action == \"add\" else -qty))\n",
    "    elif action == \"view\":\n",
    "        print(inventory)\n",
    "\n"
   ]
  },
  {
   "cell_type": "code",
   "execution_count": null,
   "id": "8ba25aa6-268d-4a04-aeca-fa5f90035218",
   "metadata": {},
   "outputs": [],
   "source": [
    "# d)\n",
    "categories = input(\"Enter categories (comma-separated): \").split(\", \")\n",
    "print(max(set(categories), key=categories.count))\n"
   ]
  },
  {
   "cell_type": "code",
   "execution_count": null,
   "id": "adc13e72-268c-4a97-9d52-72e97c22a2a8",
   "metadata": {},
   "outputs": [],
   "source": [
    "# e)\n",
    "grades = {input(\"Name: \"): list(map(int, input(\"Grades (comma-separated): \").split(\", \"))) for _ in range(int(input(\"Number of students: \")))}\n",
    "averages = {name: sum(scores) / len(scores) for name, scores in grades.items()}\n",
    "print(averages)\n"
   ]
  },
  {
   "cell_type": "code",
   "execution_count": null,
   "id": "a04baf55-154e-4b37-af3e-067a9d0fe91a",
   "metadata": {},
   "outputs": [],
   "source": [
    "# f)\n",
    "inventory = {}\n",
    "\n",
    "def add_product():\n",
    "    name, qty, price = input(\"Name: \"), int(input(\"Qty: \")), float(input(\"Price: \"))\n",
    "    inventory[name] = {\"qty\": qty, \"price\": price}\n",
    "\n",
    "def update_quantity():\n",
    "    name, qty = input(\"Name: \"), int(input(\"Qty to add/remove: \"))\n",
    "    if name in inventory: inventory[name][\"qty\"] += qty\n",
    "\n",
    "def total_value():\n",
    "    print(\"Total Value:\", sum(p[\"qty\"] * p[\"price\"] for p in inventory.values()))\n",
    "\n",
    "def low_stock():\n",
    "    print({n: p for n, p in inventory.items() if p[\"qty\"] < 5})\n",
    "\n",
    "while (action := input(\"add/update/total/low/exit: \")) != \"exit\":\n",
    "    {\"add\": add_product, \"update\": update_quantity, \"total\": total_value, \"low\": low_stock}[action]()\n"
   ]
  },
  {
   "cell_type": "code",
   "execution_count": null,
   "id": "1f3c05f3-2ff0-4dbc-a7f1-be545d6cdaf0",
   "metadata": {},
   "outputs": [],
   "source": [
    "# g)\n",
    "students = {input(\"Name: \"): {sub: int(input(f\"{sub}: \")) for sub in input(\"Subjects: \").split(\", \")} for _ in range(int(input(\"Number of students: \")))}\n",
    "\n",
    "averages = {name: sum(grades.values()) / len(grades) for name, grades in students.items()}\n",
    "print(\"Averages:\", averages)\n",
    "\n",
    "if (subject := input(\"Enter subject (or 'none'): \")) != \"none\":\n",
    "    grades = [grades.get(subject, 0) for grades in students.values()]\n",
    "    print(f\"Highest: {max(grades)}, Lowest: {min(grades)}\")\n",
    "\n",
    "sorted_students = sorted(averages.items(), key=lambda x: x[1], reverse=True)\n",
    "print(\"Sorted by average:\", sorted_students)\n"
   ]
  },
  {
   "cell_type": "code",
   "execution_count": null,
   "id": "9ad631ed-9871-4890-9eea-727cc90ac4f7",
   "metadata": {},
   "outputs": [],
   "source": [
    "# h)\n",
    "products = {input(\"Name: \"): {\"price\": float(input(\"Price: \")), \"qty\": int(input(\"Qty: \"))} for _ in range(int(input(\"Number of products: \")))}\n",
    "cart = {}\n",
    "\n",
    "while (action := input(\"add/remove/view/checkout/exit: \")) != \"exit\":\n",
    "    if action == \"add\":\n",
    "        name, qty = input(\"Product: \"), int(input(\"Qty: \"))\n",
    "        if name in products and products[name][\"qty\"] >= qty:\n",
    "            cart[name] = cart.get(name, 0) + qty\n",
    "            products[name][\"qty\"] -= qty\n",
    "    elif action == \"remove\":\n",
    "        name, qty = input(\"Product: \"), int(input(\"Qty: \"))\n",
    "        if name in cart:\n",
    "            cart[name] -= qty\n",
    "            if cart[name] <= 0: del cart[name]\n",
    "            products[name][\"qty\"] += qty\n",
    "    elif action == \"view\":\n",
    "        print(\"Cart:\", cart)\n",
    "    elif action == \"checkout\":\n",
    "        total = sum(cart[p] * products[p][\"price\"] for p in cart)\n",
    "        discount = total * 0.1 if total > 1000 else 0\n",
    "        total = total - discount + total * 0.08\n",
    "        print(f\"Total: {total:.2f}\")\n",
    "        cart.clear()\n"
   ]
  },
  {
   "cell_type": "code",
   "execution_count": null,
   "id": "05cda9d1-f64e-48d9-85c0-ebdd453cc384",
   "metadata": {},
   "outputs": [],
   "source": []
  }
 ],
 "metadata": {
  "kernelspec": {
   "display_name": "Python 3 (ipykernel)",
   "language": "python",
   "name": "python3"
  },
  "language_info": {
   "codemirror_mode": {
    "name": "ipython",
    "version": 3
   },
   "file_extension": ".py",
   "mimetype": "text/x-python",
   "name": "python",
   "nbconvert_exporter": "python",
   "pygments_lexer": "ipython3",
   "version": "3.12.7"
  }
 },
 "nbformat": 4,
 "nbformat_minor": 5
}
