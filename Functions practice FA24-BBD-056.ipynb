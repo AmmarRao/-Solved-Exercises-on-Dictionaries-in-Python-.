{
 "cells": [
  {
   "cell_type": "code",
   "execution_count": null,
   "id": "ddf2caad-9c91-4bd0-9e2a-2b4de54e1a7c",
   "metadata": {},
   "outputs": [],
   "source": [
    "#Questions have been solved on pycharm and pasted here"
   ]
  },
  {
   "cell_type": "code",
   "execution_count": 1,
   "id": "1e94859d-c3b2-4623-a567-63664d7d2622",
   "metadata": {},
   "outputs": [
    {
     "name": "stdout",
     "output_type": "stream",
     "text": [
      "Hi Ammar, the current time is 13:41:12.\n"
     ]
    }
   ],
   "source": [
    "#Create a function named greet_with_time that takes a name as input and prints a greeting message along with the current time\n",
    "def greet_time(person):\n",
    "    from datetime import datetime\n",
    "    time_now = datetime.now().strftime(\"%H:%M:%S\")\n",
    "    print(f\"Hi {person}, the current time is {time_now}.\")\n",
    "\n",
    "greet_time(\"Ammar\")\n"
   ]
  },
  {
   "cell_type": "code",
   "execution_count": 3,
   "id": "7e80cad5-01d8-46af-9fd3-de4e3371b376",
   "metadata": {},
   "outputs": [
    {
     "name": "stdout",
     "output_type": "stream",
     "text": [
      "Final price: 90.0\n"
     ]
    }
   ],
   "source": [
    "#Define a function calculate_discount that takes a price and a discount percentage as input. Set a default discount percentage of 10%.\n",
    "def get_discount(cost, percent=10):\n",
    "    final_price = cost - (cost * percent / 100)\n",
    "    print(f\"Final price: {final_price}\")\n",
    "\n",
    "get_discount(100)\n",
    "\n"
   ]
  },
  {
   "cell_type": "code",
   "execution_count": 5,
   "id": "e4fa2c23-9935-4f61-a22b-8f1bfdd907ef",
   "metadata": {},
   "outputs": [
    {
     "name": "stdout",
     "output_type": "stream",
     "text": [
      "Average: 22.0\n"
     ]
    }
   ],
   "source": [
    "def avg(a, b, c):\n",
    "    return (a + b + c) / 3\n",
    "\n",
    "result = avg(12, 24, 30)\n",
    "print(\"Average:\", result)\n",
    "\n"
   ]
  },
  {
   "cell_type": "code",
   "execution_count": 7,
   "id": "23c9b9d8-515d-408a-a752-0631346719b5",
   "metadata": {},
   "outputs": [
    {
     "name": "stdout",
     "output_type": "stream",
     "text": [
      "Name: Ammar\n",
      "Age: 19\n",
      "City: Karachi\n"
     ]
    }
   ],
   "source": [
    "def show_details(*, n, a, c):\n",
    "    print(f\"Name: {n}\")\n",
    "    print(f\"Age: {a}\")\n",
    "    print(f\"City: {c}\")\n",
    "\n",
    "show_details(n=\"Ammar\", a=19, c=\"Karachi\")\n",
    "\n"
   ]
  },
  {
   "cell_type": "code",
   "execution_count": 9,
   "id": "0f6ea6c9-41ea-4fcb-88c0-edfc5e966621",
   "metadata": {},
   "outputs": [
    {
     "name": "stdout",
     "output_type": "stream",
     "text": [
      "2\n",
      "24\n",
      "1\n"
     ]
    }
   ],
   "source": [
    "#Implement a recursive function to calculate the factorial of a number.\n",
    "def fact(num):\n",
    "    if num <= 1:\n",
    "        return 1\n",
    "    return num * fact(num - 1)\n",
    "\n",
    "print(fact(2))\n",
    "print(fact(4))\n",
    "print(fact(1))\n",
    "  \n"
   ]
  },
  {
   "cell_type": "code",
   "execution_count": null,
   "id": "00a0ac5b-9761-444d-a856-6b59bca28354",
   "metadata": {},
   "outputs": [],
   "source": [
    "#Create a lambda function to square a number.\n",
    "#Not able to understand the question\n"
   ]
  },
  {
   "cell_type": "code",
   "execution_count": null,
   "id": "f09f9e6f-d3e5-40ce-84d9-dfb88bf8efeb",
   "metadata": {},
   "outputs": [],
   "source": []
  },
  {
   "cell_type": "code",
   "execution_count": 11,
   "id": "9c4ff70c-fb1e-4367-ae04-6080278c7603",
   "metadata": {},
   "outputs": [
    {
     "name": "stdout",
     "output_type": "stream",
     "text": [
      "[121, 4, 25, 64, 16]\n"
     ]
    }
   ],
   "source": [
    "#Write a function apply_operation that takes a function and a list of numbers. Apply the function to each number and return a new list.\n",
    "def sq(n):\n",
    "    return n * n\n",
    "\n",
    "def apply_op(f, nums):\n",
    "    return [f(i) for i in nums]\n",
    "\n",
    "nums = [11, 2, 5, 8, 4]\n",
    "result = apply_op(sq, nums)\n",
    "print(result)\n"
   ]
  },
  {
   "cell_type": "code",
   "execution_count": null,
   "id": "1a6d5039-5422-4882-9b77-935dca3e5512",
   "metadata": {},
   "outputs": [],
   "source": []
  }
 ],
 "metadata": {
  "kernelspec": {
   "display_name": "Python 3 (ipykernel)",
   "language": "python",
   "name": "python3"
  },
  "language_info": {
   "codemirror_mode": {
    "name": "ipython",
    "version": 3
   },
   "file_extension": ".py",
   "mimetype": "text/x-python",
   "name": "python",
   "nbconvert_exporter": "python",
   "pygments_lexer": "ipython3",
   "version": "3.12.7"
  }
 },
 "nbformat": 4,
 "nbformat_minor": 5
}
